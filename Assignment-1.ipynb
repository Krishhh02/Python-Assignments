{
 "cells": [
  {
   "cell_type": "raw",
   "id": "cbc5c631",
   "metadata": {},
   "source": [
    "1. What is the difference between string and variable?\n",
    "String is nothing but group of characters or alphabet (ex: \"ineuron\")\n",
    "Variable is a kind of a storage , which we can give the name and access it by using  its name  (ex: A = 10 , here A is a variable and it is having value as 10 and it will be accessed by using  A)"
   ]
  },
  {
   "cell_type": "raw",
   "id": "a460409f",
   "metadata": {},
   "source": []
  }
 ],
 "metadata": {
  "kernelspec": {
   "display_name": "Python 3",
   "language": "python",
   "name": "python3"
  },
  "language_info": {
   "codemirror_mode": {
    "name": "ipython",
    "version": 3
   },
   "file_extension": ".py",
   "mimetype": "text/x-python",
   "name": "python",
   "nbconvert_exporter": "python",
   "pygments_lexer": "ipython3",
   "version": "3.8.8"
  }
 },
 "nbformat": 4,
 "nbformat_minor": 5
}
