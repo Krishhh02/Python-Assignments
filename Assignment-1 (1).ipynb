{
 "cells": [
  {
   "cell_type": "code",
   "execution_count": null,
   "id": "eb83b65b",
   "metadata": {},
   "outputs": [],
   "source": [
    "1. What is the difference between string and variable?\n",
    "String is nothing but group of characters or alphabet (ex: \"ineuron\")\n",
    "Variable is a kind of a storage , which we can give the name and access it by using  its name  (ex: A = 10 , here A is a variable and it is having value as 10 and it will be accessed by using  A"
   ]
  },
  {
   "cell_type": "code",
   "execution_count": 6,
   "id": "101c4e41",
   "metadata": {},
   "outputs": [
    {
     "data": {
      "text/plain": [
       "8"
      ]
     },
     "execution_count": 6,
     "metadata": {},
     "output_type": "execute_result"
    }
   ],
   "source": [
    "def test(a,b):\n",
    "    return a **b\n",
    "test(2,3)"
   ]
  },
  {
   "cell_type": "code",
   "execution_count": null,
   "id": "17711351",
   "metadata": {},
   "outputs": [],
   "source": []
  }
 ],
 "metadata": {
  "kernelspec": {
   "display_name": "Python 3",
   "language": "python",
   "name": "python3"
  },
  "language_info": {
   "codemirror_mode": {
    "name": "ipython",
    "version": 3
   },
   "file_extension": ".py",
   "mimetype": "text/x-python",
   "name": "python",
   "nbconvert_exporter": "python",
   "pygments_lexer": "ipython3",
   "version": "3.8.8"
  }
 },
 "nbformat": 4,
 "nbformat_minor": 5
}
